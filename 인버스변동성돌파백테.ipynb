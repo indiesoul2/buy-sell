{
 "cells": [
  {
   "cell_type": "code",
   "execution_count": null,
   "metadata": {},
   "outputs": [],
   "source": [
    "%run viz_common.py"
   ]
  },
  {
   "cell_type": "code",
   "execution_count": 1,
   "metadata": {},
   "outputs": [],
   "source": [
    "import pandas as pd\n",
    "import numpy as np\n",
    "import matplotlib.pyplot as plt\n",
    "import matplotlib.font_manager as fm\n",
    "import seaborn as sns\n",
    "\n",
    "plt.rcParams[\"font.family\"] = 'Malgun Gothic'\n",
    "plt.rcParams[\"figure.figsize\"] = (14,4)\n",
    "plt.rcParams['lines.linewidth'] = 2\n",
    "plt.rcParams[\"axes.grid\"] = True\n",
    "# 그래프에서 마이너스 폰트 깨지는 문제에 대한 대처\n",
    "plt.rcParams['axes.unicode_minus'] = False\n",
    "\n",
    "%matplotlib inline"
   ]
  },
  {
   "cell_type": "code",
   "execution_count": 2,
   "metadata": {},
   "outputs": [],
   "source": [
    "import FinanceDataReader as fdr\n",
    "df = fdr.DataReader(\"251340\",\"2010\")"
   ]
  },
  {
   "cell_type": "code",
   "execution_count": 3,
   "metadata": {},
   "outputs": [
    {
     "data": {
      "text/html": [
       "<div>\n",
       "<style scoped>\n",
       "    .dataframe tbody tr th:only-of-type {\n",
       "        vertical-align: middle;\n",
       "    }\n",
       "\n",
       "    .dataframe tbody tr th {\n",
       "        vertical-align: top;\n",
       "    }\n",
       "\n",
       "    .dataframe thead th {\n",
       "        text-align: right;\n",
       "    }\n",
       "</style>\n",
       "<table border=\"1\" class=\"dataframe\">\n",
       "  <thead>\n",
       "    <tr style=\"text-align: right;\">\n",
       "      <th></th>\n",
       "      <th>open</th>\n",
       "      <th>high</th>\n",
       "      <th>low</th>\n",
       "      <th>close</th>\n",
       "      <th>volume</th>\n",
       "      <th>change</th>\n",
       "    </tr>\n",
       "    <tr>\n",
       "      <th>Date</th>\n",
       "      <th></th>\n",
       "      <th></th>\n",
       "      <th></th>\n",
       "      <th></th>\n",
       "      <th></th>\n",
       "      <th></th>\n",
       "    </tr>\n",
       "  </thead>\n",
       "  <tbody>\n",
       "    <tr>\n",
       "      <th>2019-04-15</th>\n",
       "      <td>6755</td>\n",
       "      <td>6805</td>\n",
       "      <td>6745</td>\n",
       "      <td>6775</td>\n",
       "      <td>11290638</td>\n",
       "      <td>0.001478</td>\n",
       "    </tr>\n",
       "    <tr>\n",
       "      <th>2019-04-16</th>\n",
       "      <td>6775</td>\n",
       "      <td>6840</td>\n",
       "      <td>6765</td>\n",
       "      <td>6765</td>\n",
       "      <td>10767874</td>\n",
       "      <td>-0.001476</td>\n",
       "    </tr>\n",
       "    <tr>\n",
       "      <th>2019-04-17</th>\n",
       "      <td>6765</td>\n",
       "      <td>6800</td>\n",
       "      <td>6750</td>\n",
       "      <td>6765</td>\n",
       "      <td>8016541</td>\n",
       "      <td>0.000000</td>\n",
       "    </tr>\n",
       "    <tr>\n",
       "      <th>2019-04-18</th>\n",
       "      <td>6780</td>\n",
       "      <td>6955</td>\n",
       "      <td>6780</td>\n",
       "      <td>6925</td>\n",
       "      <td>15110418</td>\n",
       "      <td>0.023651</td>\n",
       "    </tr>\n",
       "    <tr>\n",
       "      <th>2019-04-19</th>\n",
       "      <td>6890</td>\n",
       "      <td>6900</td>\n",
       "      <td>6830</td>\n",
       "      <td>6835</td>\n",
       "      <td>9371395</td>\n",
       "      <td>-0.012996</td>\n",
       "    </tr>\n",
       "  </tbody>\n",
       "</table>\n",
       "</div>"
      ],
      "text/plain": [
       "            open  high   low  close    volume    change\n",
       "Date                                                   \n",
       "2019-04-15  6755  6805  6745   6775  11290638  0.001478\n",
       "2019-04-16  6775  6840  6765   6765  10767874 -0.001476\n",
       "2019-04-17  6765  6800  6750   6765   8016541  0.000000\n",
       "2019-04-18  6780  6955  6780   6925  15110418  0.023651\n",
       "2019-04-19  6890  6900  6830   6835   9371395 -0.012996"
      ]
     },
     "execution_count": 3,
     "metadata": {},
     "output_type": "execute_result"
    }
   ],
   "source": [
    "df.columns = ['open','high','low','close','volume', 'change']\n",
    "df.tail()"
   ]
  },
  {
   "cell_type": "markdown",
   "metadata": {},
   "source": [
    "#기본 계수에 의한 백테"
   ]
  },
  {
   "cell_type": "code",
   "execution_count": 4,
   "metadata": {},
   "outputs": [],
   "source": [
    "def strategy(d2, k=0.5):\n",
    "    d = d2.copy()\n",
    "    d.insert(len(d.columns), 'range', d['high']-d['low'])\n",
    "    \n",
    "    prev_range = d['range'].shift(1)\n",
    "    sell_price = d['close'].shift(1)\n",
    "    buy_price = round((d['open'] + prev_range * k)/5.0)*5\n",
    "    bool = d['high'] >= buy_price\n",
    "    bool = bool.astype(int)\n",
    "    #print(bool)\n",
    "    \n",
    "    daily_profit = bool * ((sell_price - buy_price) / buy_price - 0.15/100)\n",
    "    d['profit'] = np.nan\n",
    "    k = len(d.columns) - 1\n",
    "    d.iloc[0,k] = 1  #여기서 d['profit'][0]로 하면 SettingWithCopyWarning이 뜸\n",
    "    for i in range(1,len(d['profit'])):\n",
    "        d.iloc[i,k] = d.iloc[i-1,k] * (1 + daily_profit[i]) # 여기도\n",
    "    d = d.dropna()\n",
    "    resultdf = [d['profit'], daily_profit]\n",
    "    return resultdf"
   ]
  },
  {
   "cell_type": "code",
   "execution_count": 5,
   "metadata": {},
   "outputs": [
    {
     "data": {
      "application/vnd.jupyter.widget-view+json": {
       "model_id": "0b9fe3be275d4e6cb7a7a1bdbeda2cd8",
       "version_major": 2,
       "version_minor": 0
      },
      "text/plain": [
       "HBox(children=(IntProgress(value=0, max=19), HTML(value='')))"
      ]
     },
     "metadata": {},
     "output_type": "display_data"
    },
    {
     "name": "stdout",
     "output_type": "stream",
     "text": [
      "\n"
     ]
    }
   ],
   "source": [
    "import cagr_mdd as cm\n",
    "from tqdm import tqdm_notebook as tn\n",
    "\n",
    "cagr = []; mdd= []; index=[]\n",
    "\n",
    "for i in tn(np.arange(0.1, 1.05, 0.05)):\n",
    "    c, m = cm.result(strategy(df, i)[0])\n",
    "    cagr.append(c); mdd.append(m); \n",
    "    index.append('*{}'.format(round(i*100)/100))\n",
    "    \n",
    "cagr2 = pd.Series(cagr, index=index)\n",
    "mdd2 = pd.Series(mdd, index=index)\n",
    "\n",
    "cagrMdd = pd.DataFrame({'CAGR':cagr2, 'MDD':mdd2})"
   ]
  },
  {
   "cell_type": "code",
   "execution_count": 9,
   "metadata": {},
   "outputs": [
    {
     "data": {
      "text/html": [
       "<div>\n",
       "<style scoped>\n",
       "    .dataframe tbody tr th:only-of-type {\n",
       "        vertical-align: middle;\n",
       "    }\n",
       "\n",
       "    .dataframe tbody tr th {\n",
       "        vertical-align: top;\n",
       "    }\n",
       "\n",
       "    .dataframe thead th {\n",
       "        text-align: right;\n",
       "    }\n",
       "</style>\n",
       "<table border=\"1\" class=\"dataframe\">\n",
       "  <thead>\n",
       "    <tr style=\"text-align: right;\">\n",
       "      <th></th>\n",
       "      <th>CAGR</th>\n",
       "      <th>MDD</th>\n",
       "    </tr>\n",
       "  </thead>\n",
       "  <tbody>\n",
       "    <tr>\n",
       "      <th>*0.1</th>\n",
       "      <td>-47.540175</td>\n",
       "      <td>464.549778</td>\n",
       "    </tr>\n",
       "    <tr>\n",
       "      <th>*0.15</th>\n",
       "      <td>-53.522732</td>\n",
       "      <td>681.298997</td>\n",
       "    </tr>\n",
       "    <tr>\n",
       "      <th>*0.2</th>\n",
       "      <td>-57.838183</td>\n",
       "      <td>914.713745</td>\n",
       "    </tr>\n",
       "    <tr>\n",
       "      <th>*0.25</th>\n",
       "      <td>-60.436552</td>\n",
       "      <td>1102.686711</td>\n",
       "    </tr>\n",
       "    <tr>\n",
       "      <th>*0.3</th>\n",
       "      <td>-62.027889</td>\n",
       "      <td>1242.310475</td>\n",
       "    </tr>\n",
       "    <tr>\n",
       "      <th>*0.35</th>\n",
       "      <td>-63.915419</td>\n",
       "      <td>1438.676527</td>\n",
       "    </tr>\n",
       "    <tr>\n",
       "      <th>*0.4</th>\n",
       "      <td>-65.199103</td>\n",
       "      <td>1594.299322</td>\n",
       "    </tr>\n",
       "    <tr>\n",
       "      <th>*0.45</th>\n",
       "      <td>-63.268955</td>\n",
       "      <td>1364.754484</td>\n",
       "    </tr>\n",
       "    <tr>\n",
       "      <th>*0.5</th>\n",
       "      <td>-63.942476</td>\n",
       "      <td>1437.905983</td>\n",
       "    </tr>\n",
       "    <tr>\n",
       "      <th>*0.55</th>\n",
       "      <td>-63.608137</td>\n",
       "      <td>1399.471604</td>\n",
       "    </tr>\n",
       "    <tr>\n",
       "      <th>*0.6</th>\n",
       "      <td>-62.728253</td>\n",
       "      <td>1305.511014</td>\n",
       "    </tr>\n",
       "    <tr>\n",
       "      <th>*0.65</th>\n",
       "      <td>-61.914838</td>\n",
       "      <td>1224.946769</td>\n",
       "    </tr>\n",
       "    <tr>\n",
       "      <th>*0.7</th>\n",
       "      <td>-60.098610</td>\n",
       "      <td>1068.430903</td>\n",
       "    </tr>\n",
       "    <tr>\n",
       "      <th>*0.75</th>\n",
       "      <td>-56.520520</td>\n",
       "      <td>827.139405</td>\n",
       "    </tr>\n",
       "    <tr>\n",
       "      <th>*0.8</th>\n",
       "      <td>-55.025251</td>\n",
       "      <td>745.751960</td>\n",
       "    </tr>\n",
       "    <tr>\n",
       "      <th>*0.85</th>\n",
       "      <td>-53.370243</td>\n",
       "      <td>667.086228</td>\n",
       "    </tr>\n",
       "    <tr>\n",
       "      <th>*0.9</th>\n",
       "      <td>-51.886158</td>\n",
       "      <td>604.784029</td>\n",
       "    </tr>\n",
       "    <tr>\n",
       "      <th>*0.95</th>\n",
       "      <td>-50.186741</td>\n",
       "      <td>541.365084</td>\n",
       "    </tr>\n",
       "    <tr>\n",
       "      <th>*1.0</th>\n",
       "      <td>-48.729961</td>\n",
       "      <td>493.256084</td>\n",
       "    </tr>\n",
       "  </tbody>\n",
       "</table>\n",
       "</div>"
      ],
      "text/plain": [
       "            CAGR          MDD\n",
       "*0.1  -47.540175   464.549778\n",
       "*0.15 -53.522732   681.298997\n",
       "*0.2  -57.838183   914.713745\n",
       "*0.25 -60.436552  1102.686711\n",
       "*0.3  -62.027889  1242.310475\n",
       "*0.35 -63.915419  1438.676527\n",
       "*0.4  -65.199103  1594.299322\n",
       "*0.45 -63.268955  1364.754484\n",
       "*0.5  -63.942476  1437.905983\n",
       "*0.55 -63.608137  1399.471604\n",
       "*0.6  -62.728253  1305.511014\n",
       "*0.65 -61.914838  1224.946769\n",
       "*0.7  -60.098610  1068.430903\n",
       "*0.75 -56.520520   827.139405\n",
       "*0.8  -55.025251   745.751960\n",
       "*0.85 -53.370243   667.086228\n",
       "*0.9  -51.886158   604.784029\n",
       "*0.95 -50.186741   541.365084\n",
       "*1.0  -48.729961   493.256084"
      ]
     },
     "execution_count": 9,
     "metadata": {},
     "output_type": "execute_result"
    }
   ],
   "source": [
    "cagrMdd"
   ]
  },
  {
   "cell_type": "code",
   "execution_count": 8,
   "metadata": {},
   "outputs": [
    {
     "data": {
      "text/plain": [
       "Text(0.5, 1.0, 'test_range별 Cagr과 MDD')"
      ]
     },
     "execution_count": 8,
     "metadata": {},
     "output_type": "execute_result"
    },
    {
     "data": {
      "image/png": "[encoded data removed]",
      "text/plain": [
       "<Figure size 432x288 with 2 Axes>"
      ]
     },
     "metadata": {
      "needs_background": "light"
     },
     "output_type": "display_data"
    }
   ],
   "source": [
    "#이제 그래프!\n",
    "plt.bar(cagrMdd.index,cagrMdd['CAGR'], 0.35, color='b', label = 'CAGR')\n",
    "plt.ylabel('CAGR (%)')\n",
    "plt.legend(loc='upper center')\n",
    "plt.twinx()\n",
    "plt.plot(cagrMdd.index, cagrMdd['MDD'], '-or', label='MDD')\n",
    "plt.ylabel('MDD (%)')\n",
    "plt.legend()\n",
    "plt.title(\"test_range별 Cagr과 MDD\")"
   ]
  },
  {
   "cell_type": "code",
   "execution_count": null,
   "metadata": {},
   "outputs": [],
   "source": []
  }
 ],
 "metadata": {
  "kernelspec": {
   "display_name": "Python 3",
   "language": "python",
   "name": "python3"
  },
  "language_info": {
   "codemirror_mode": {
    "name": "ipython",
    "version": 3
   },
   "file_extension": ".py",
   "mimetype": "text/x-python",
   "name": "python",
   "nbconvert_exporter": "python",
   "pygments_lexer": "ipython3",
   "version": "3.7.1"
  }
 },
 "nbformat": 4,
 "nbformat_minor": 2
}
