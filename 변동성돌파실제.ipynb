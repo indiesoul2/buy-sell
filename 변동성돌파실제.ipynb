{
 "cells": [
  {
   "cell_type": "markdown",
   "metadata": {},
   "source": [
    "#데이터얻기/ 준비"
   ]
  },
  {
   "cell_type": "code",
   "execution_count": 1,
   "metadata": {},
   "outputs": [],
   "source": [
    "import FinanceDataReader as fdr\n",
    "from datetime import datetime, timedelta\n",
    "import numpy as np\n",
    "\n",
    "daysbefore = datetime.now() - timedelta(weeks=5)\n",
    "daysbefore = daysbefore.strftime(\"%Y-%m-%d\")\n",
    "\n",
    "#데이터 얻기\n",
    "longdf = fdr.DataReader('233740', daysbefore)\n",
    "shortdf = fdr.DataReader('251340', daysbefore)\n"
   ]
  },
  {
   "cell_type": "code",
   "execution_count": 2,
   "metadata": {},
   "outputs": [
    {
     "data": {
      "text/html": [
       "<div>\n",
       "<style scoped>\n",
       "    .dataframe tbody tr th:only-of-type {\n",
       "        vertical-align: middle;\n",
       "    }\n",
       "\n",
       "    .dataframe tbody tr th {\n",
       "        vertical-align: top;\n",
       "    }\n",
       "\n",
       "    .dataframe thead th {\n",
       "        text-align: right;\n",
       "    }\n",
       "</style>\n",
       "<table border=\"1\" class=\"dataframe\">\n",
       "  <thead>\n",
       "    <tr style=\"text-align: right;\">\n",
       "      <th></th>\n",
       "      <th>Open</th>\n",
       "      <th>High</th>\n",
       "      <th>Low</th>\n",
       "      <th>Close</th>\n",
       "      <th>Volume</th>\n",
       "      <th>Change</th>\n",
       "    </tr>\n",
       "    <tr>\n",
       "      <th>Date</th>\n",
       "      <th></th>\n",
       "      <th></th>\n",
       "      <th></th>\n",
       "      <th></th>\n",
       "      <th></th>\n",
       "      <th></th>\n",
       "    </tr>\n",
       "  </thead>\n",
       "  <tbody>\n",
       "    <tr>\n",
       "      <th>2019-04-15</th>\n",
       "      <td>13330</td>\n",
       "      <td>13350</td>\n",
       "      <td>13105</td>\n",
       "      <td>13190</td>\n",
       "      <td>8271066</td>\n",
       "      <td>-0.004153</td>\n",
       "    </tr>\n",
       "    <tr>\n",
       "      <th>2019-04-16</th>\n",
       "      <td>13190</td>\n",
       "      <td>13245</td>\n",
       "      <td>12980</td>\n",
       "      <td>13225</td>\n",
       "      <td>8354169</td>\n",
       "      <td>0.002654</td>\n",
       "    </tr>\n",
       "    <tr>\n",
       "      <th>2019-04-17</th>\n",
       "      <td>13230</td>\n",
       "      <td>13300</td>\n",
       "      <td>13135</td>\n",
       "      <td>13230</td>\n",
       "      <td>6306569</td>\n",
       "      <td>0.000378</td>\n",
       "    </tr>\n",
       "    <tr>\n",
       "      <th>2019-04-18</th>\n",
       "      <td>13190</td>\n",
       "      <td>13195</td>\n",
       "      <td>12515</td>\n",
       "      <td>12625</td>\n",
       "      <td>10839245</td>\n",
       "      <td>-0.045729</td>\n",
       "    </tr>\n",
       "    <tr>\n",
       "      <th>2019-04-19</th>\n",
       "      <td>12750</td>\n",
       "      <td>12940</td>\n",
       "      <td>12725</td>\n",
       "      <td>12925</td>\n",
       "      <td>5579609</td>\n",
       "      <td>0.023762</td>\n",
       "    </tr>\n",
       "  </tbody>\n",
       "</table>\n",
       "</div>"
      ],
      "text/plain": [
       "             Open   High    Low  Close    Volume    Change\n",
       "Date                                                      \n",
       "2019-04-15  13330  13350  13105  13190   8271066 -0.004153\n",
       "2019-04-16  13190  13245  12980  13225   8354169  0.002654\n",
       "2019-04-17  13230  13300  13135  13230   6306569  0.000378\n",
       "2019-04-18  13190  13195  12515  12625  10839245 -0.045729\n",
       "2019-04-19  12750  12940  12725  12925   5579609  0.023762"
      ]
     },
     "execution_count": 2,
     "metadata": {},
     "output_type": "execute_result"
    }
   ],
   "source": [
    "longdf.tail()"
   ]
  },
  {
   "cell_type": "code",
   "execution_count": 3,
   "metadata": {},
   "outputs": [],
   "source": [
    "#range 값\n",
    "longdf['range'] = longdf['High'] - longdf['Low']\n",
    "shortdf['range'] = shortdf['High'] - shortdf['Low']\n",
    "\n",
    "#노이즈 계산\n",
    "longdf['noise'] = 1-abs(longdf['Open']-longdf['Close'])/(longdf['High']-longdf['Low'])\n",
    "shortdf['noise'] = 1-abs(shortdf['Open']-shortdf['Close'])/(shortdf['High']-shortdf['Low'])\n",
    "\n",
    "#13일 노이즈 평균\n",
    "longdf['noise13'] = longdf['noise'].rolling(window=13).mean()\n",
    "shortdf['noise13'] = shortdf['noise'].rolling(window=13).mean()\n",
    "\n",
    "# 마켓타이밍 적용(3,5,10,20일 이동평균)\n",
    "windows = [3, 5, 10, 20]\n",
    "for window in windows:\n",
    "    longdf['close_ma{}'.format(window)] = longdf['Close'].rolling(window).mean()\n",
    "    shortdf['close_ma{}'.format(window)] = shortdf['Close'].rolling(window).mean()\n",
    "\n",
    "# 변동성 2% 제한\n",
    "longdf['std2'] = np.where(longdf['range']/longdf['Close']*100 > 2, 2*longdf['Close']/longdf['range']/100, 1)\n",
    "shortdf['std2'] = np.where(shortdf['range']/shortdf['Close']*100 > 2, 2*shortdf['Close']/shortdf['range']/100, 1)\n"
   ]
  },
  {
   "cell_type": "code",
   "execution_count": 6,
   "metadata": {},
   "outputs": [],
   "source": [
    "import pandas as pd"
   ]
  },
  {
   "cell_type": "code",
   "execution_count": 12,
   "metadata": {},
   "outputs": [],
   "source": [
    "excel_writer = pd.ExcelWriter('./변동성돌파.xlsx', engine='xlsxwriter')\n",
    "longdf.to_excel(excel_writer, 'long')\n",
    "shortdf.to_excel(excel_writer, 'short')\n",
    "excel_writer.save()"
   ]
  },
  {
   "cell_type": "code",
   "execution_count": 11,
   "metadata": {},
   "outputs": [],
   "source": [
    "# 이동평균 모멘텀 스코어\n",
    "longdf['mascore'] = (np.where(longdf['Close'] > longdf['close_ma3'], 1, 0) + np.where(longdf['Close'] > longdf['close_ma5'], 1, 0) + \\\n",
    "                    np.where(longdf['Close'] > longdf['close_ma10'], 1, 0) + np.where(longdf['Close'] > longdf['close_ma20'], 1, 0))/4\n",
    "shortdf['mascore'] = (np.where(shortdf['Close'] > shortdf['close_ma3'], 1, 0) + np.where(shortdf['Close'] > shortdf['close_ma5'], 1, 0) + \\\n",
    "                    np.where(shortdf['Close'] > shortdf['close_ma10'], 1, 0) + np.where(shortdf['Close'] > shortdf['close_ma20'], 1, 0))/4"
   ]
  },
  {
   "cell_type": "code",
   "execution_count": 13,
   "metadata": {},
   "outputs": [],
   "source": [
    "# 돌파 진입값\n",
    "long_enterprice = longdf.iloc[-1,0]+longdf.iloc[-2,6]*longdf.iloc[-2,8]\n",
    "short_enterprice = shortdf.iloc[-1,0]+shortdf.iloc[-2,6]*shortdf.iloc[-2,8]\n",
    "\n",
    "# 손절값: range/4\n",
    "long_losscut = format((long_enterprice-(longdf.iloc[-2,6]/4)).astype(int),',')\n",
    "short_losscut = format((short_enterprice-(shortdf.iloc[-2,6]/4)).astype(int),',')\n",
    "\n",
    "#계좌 총 잔고\n",
    "valance = 1113110\n",
    "\n",
    "long_buyratio = 0.2 + 0.6*longdf.iloc[-2,13]*longdf.iloc[-2,14]\n",
    "\n",
    "#최종 투입 금액\n",
    "long_amt = valance*long_buyratio\n",
    "short_amt = valance - long_amt\n",
    "\n",
    "#사야할 주식 수\n",
    "long_buy = format((long_amt/long_enterprice).astype(int),',')\n",
    "short_buy = format((short_amt/short_enterprice).astype(int),',')\n",
    "\n",
    "long_amt = format(long_amt.astype(int),',')\n",
    "short_amt = format(short_amt.astype(int),',')\n",
    "long_enterprice = format(long_enterprice.astype(int),',')\n",
    "short_enterprice = format(short_enterprice.astype(int),',')"
   ]
  },
  {
   "cell_type": "code",
   "execution_count": null,
   "metadata": {},
   "outputs": [],
   "source": [
    "'''알고자하는 변수\n",
    "  레버리지 진입 가격: long_enterprice  사야할 주식 수: long_buy\n",
    "  인버스   진입 가격: short_enterprice 사야할 주식 수: short_buy\n",
    "'''\n",
    "\n",
    "#텔레그램에 전송\n",
    "#pip install python-telegram-bot --upgrade\n",
    "\n",
    "import telegram   #텔레그램 모듈을 가져옵니다.\n",
    "\n",
    "my_token = '888106364:AAGAa5TCf_YZFPYZHMtM2r7a7pKrxV_qbPs'   #토큰을 변수에 저장합니다.\n",
    "\n",
    "bot = telegram.Bot(token = my_token)   #bot을 선언합니다.\n",
    "\n",
    "#updates = bot.getUpdates()  #업데이트 내역을 받아옵니다.\n",
    "\n",
    "#for u in updates :   # 내역중 메세지를 출력합니다.\n",
    "#  print(u.message)\n",
    "\n",
    "#chat_id = bot.getUpdates()[-1].message.chat.id #가장 최근에 온 메세지의 chat id를 가져옵니다\n",
    "\n",
    "bot.sendMessage(chat_id = 668333141,text=\"레버리지 진입 가격: \"+ long_enterprice)\n",
    "bot.sendMessage(chat_id = 668333141,text=\"레버리지 사야할 주식 수: \"+ long_buy)\n",
    "bot.sendMessage(chat_id = 668333141,text=\"인버스 진입 가격: \"+ short_enterprice)\n",
    "bot.sendMessage(chat_id = 668333141,text=\"인버스 사야할 주식 수: \"+ short_buy)\n",
    "bot.sendMessage(chat_id = 668333141,text=\"레버리지 손절 가격: \"+ long_losscut)\n",
    "bot.sendMessage(chat_id = 668333141,text=\"인버스 손절 가격: \"+ short_losscut)"
   ]
  }
 ],
 "metadata": {
  "kernelspec": {
   "display_name": "Python 3",
   "language": "python",
   "name": "python3"
  },
  "language_info": {
   "codemirror_mode": {
    "name": "ipython",
    "version": 3
   },
   "file_extension": ".py",
   "mimetype": "text/x-python",
   "name": "python",
   "nbconvert_exporter": "python",
   "pygments_lexer": "ipython3",
   "version": "3.7.1"
  }
 },
 "nbformat": 4,
 "nbformat_minor": 2
}
