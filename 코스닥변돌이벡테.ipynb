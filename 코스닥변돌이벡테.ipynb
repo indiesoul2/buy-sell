{
 "cells": [
  {
   "cell_type": "code",
   "execution_count": null,
   "metadata": {},
   "outputs": [],
   "source": [
    "%run viz_common.py"
   ]
  },
  {
   "cell_type": "code",
   "execution_count": 21,
   "metadata": {},
   "outputs": [],
   "source": [
    "import pandas as pd\n",
    "import numpy as np\n",
    "import matplotlib.pyplot as plt\n",
    "import matplotlib.font_manager as fm\n",
    "import seaborn as sns\n",
    "\n",
    "plt.rcParams[\"font.family\"] = 'Malgun Gothic'\n",
    "plt.rcParams[\"figure.figsize\"] = (14,4)\n",
    "plt.rcParams['lines.linewidth'] = 2\n",
    "plt.rcParams[\"axes.grid\"] = True\n",
    "# 그래프에서 마이너스 폰트 깨지는 문제에 대한 대처\n",
    "plt.rcParams['axes.unicode_minus'] = False\n",
    "\n",
    "%matplotlib inline"
   ]
  },
  {
   "cell_type": "code",
   "execution_count": 2,
   "metadata": {},
   "outputs": [],
   "source": [
    "import FinanceDataReader as fdr"
   ]
  },
  {
   "cell_type": "code",
   "execution_count": 3,
   "metadata": {},
   "outputs": [],
   "source": [
    "df = fdr.DataReader(\"233740\",\"2010\")\n",
    "df.columns = ['open','high','low','close','volume', 'change']"
   ]
  },
  {
   "cell_type": "code",
   "execution_count": 4,
   "metadata": {},
   "outputs": [
    {
     "data": {
      "text/html": [
       "<div>\n",
       "<style scoped>\n",
       "    .dataframe tbody tr th:only-of-type {\n",
       "        vertical-align: middle;\n",
       "    }\n",
       "\n",
       "    .dataframe tbody tr th {\n",
       "        vertical-align: top;\n",
       "    }\n",
       "\n",
       "    .dataframe thead th {\n",
       "        text-align: right;\n",
       "    }\n",
       "</style>\n",
       "<table border=\"1\" class=\"dataframe\">\n",
       "  <thead>\n",
       "    <tr style=\"text-align: right;\">\n",
       "      <th></th>\n",
       "      <th>open</th>\n",
       "      <th>high</th>\n",
       "      <th>low</th>\n",
       "      <th>close</th>\n",
       "      <th>volume</th>\n",
       "      <th>change</th>\n",
       "    </tr>\n",
       "    <tr>\n",
       "      <th>Date</th>\n",
       "      <th></th>\n",
       "      <th></th>\n",
       "      <th></th>\n",
       "      <th></th>\n",
       "      <th></th>\n",
       "      <th></th>\n",
       "    </tr>\n",
       "  </thead>\n",
       "  <tbody>\n",
       "    <tr>\n",
       "      <th>2015-12-17</th>\n",
       "      <td>10240</td>\n",
       "      <td>10405</td>\n",
       "      <td>9970</td>\n",
       "      <td>10330</td>\n",
       "      <td>946156</td>\n",
       "      <td>NaN</td>\n",
       "    </tr>\n",
       "    <tr>\n",
       "      <th>2015-12-18</th>\n",
       "      <td>10230</td>\n",
       "      <td>10710</td>\n",
       "      <td>10165</td>\n",
       "      <td>10710</td>\n",
       "      <td>1841150</td>\n",
       "      <td>0.036786</td>\n",
       "    </tr>\n",
       "    <tr>\n",
       "      <th>2015-12-21</th>\n",
       "      <td>10695</td>\n",
       "      <td>10825</td>\n",
       "      <td>10670</td>\n",
       "      <td>10720</td>\n",
       "      <td>1274858</td>\n",
       "      <td>0.000934</td>\n",
       "    </tr>\n",
       "    <tr>\n",
       "      <th>2015-12-22</th>\n",
       "      <td>10740</td>\n",
       "      <td>10750</td>\n",
       "      <td>10450</td>\n",
       "      <td>10495</td>\n",
       "      <td>1374974</td>\n",
       "      <td>-0.020989</td>\n",
       "    </tr>\n",
       "    <tr>\n",
       "      <th>2015-12-23</th>\n",
       "      <td>10535</td>\n",
       "      <td>10635</td>\n",
       "      <td>10415</td>\n",
       "      <td>10425</td>\n",
       "      <td>2532341</td>\n",
       "      <td>-0.006670</td>\n",
       "    </tr>\n",
       "  </tbody>\n",
       "</table>\n",
       "</div>"
      ],
      "text/plain": [
       "             open   high    low  close   volume    change\n",
       "Date                                                     \n",
       "2015-12-17  10240  10405   9970  10330   946156       NaN\n",
       "2015-12-18  10230  10710  10165  10710  1841150  0.036786\n",
       "2015-12-21  10695  10825  10670  10720  1274858  0.000934\n",
       "2015-12-22  10740  10750  10450  10495  1374974 -0.020989\n",
       "2015-12-23  10535  10635  10415  10425  2532341 -0.006670"
      ]
     },
     "execution_count": 4,
     "metadata": {},
     "output_type": "execute_result"
    }
   ],
   "source": [
    "df.head()"
   ]
  },
  {
   "cell_type": "markdown",
   "metadata": {},
   "source": [
    "# 기본 계수에 의한 테스트"
   ]
  },
  {
   "cell_type": "code",
   "execution_count": 5,
   "metadata": {},
   "outputs": [],
   "source": [
    "def strategy(d2, k=0.5):\n",
    "    d = d2.copy()\n",
    "    d.insert(len(d.columns), 'range', d['high']-d['low'])\n",
    "    \n",
    "    prev_range = d['range'].shift(1)\n",
    "    sell_price = d['open'].shift(-1)\n",
    "    buy_price = round((d['open'] + prev_range * k)/5.0)*5\n",
    "    bool = d['high'] >= buy_price\n",
    "    bool = bool.astype(int)\n",
    "    #print(bool)\n",
    "    \n",
    "    daily_profit = bool * ((sell_price - buy_price) / buy_price - 0.15/100)\n",
    "    d['profit'] = np.nan\n",
    "    k = len(d.columns) - 1\n",
    "    d.iloc[0,k] = 1  #여기서 d['profit'][0]로 하면 SettingWithCopyWarning이 뜸\n",
    "    for i in range(1,len(d['profit'])):\n",
    "        d.iloc[i,k] = d.iloc[i-1,k] * (1 + daily_profit[i]) # 여기도\n",
    "    d = d.dropna()\n",
    "    resultdf = [d['profit'], daily_profit]\n",
    "    return resultdf"
   ]
  },
  {
   "cell_type": "code",
   "execution_count": 6,
   "metadata": {},
   "outputs": [],
   "source": [
    "import cagr_mdd as cm\n",
    "from tqdm import tqdm_notebook as tn"
   ]
  },
  {
   "cell_type": "code",
   "execution_count": 8,
   "metadata": {},
   "outputs": [],
   "source": [
    "cagr = []; mdd= []; index=[]\n",
    "\n",
    "for i in tn(np.arange(0.1, 1.05, 0.05)):\n",
    "    c, m = cm.result(strategy(df, i)[0])\n",
    "    cagr.append(c); mdd.append(m); \n",
    "    index.append('*{}'.format(round(i*100)/100))\n",
    "    \n",
    "cagr2 = pd.Series(cagr, index=index)\n",
    "mdd2 = pd.Series(mdd, index=index)\n",
    "\n",
    "cagrMdd = pd.DataFrame({'CAGR':cagr2, 'MDD':mdd2})"
   ]
  },
  {
   "cell_type": "code",
   "execution_count": 22,
   "metadata": {},
   "outputs": [
    {
     "data": {
      "image/png": "[encoded data removed]",
      "text/plain": [
       "<Figure size 432x288 with 2 Axes>"
      ]
     },
     "metadata": {
      "needs_background": "light"
     },
     "output_type": "display_data"
    },
    {
     "data": {
      "image/png": "[encoded data removed]",
      "text/plain": [
       "<Figure size 1008x288 with 1 Axes>"
      ]
     },
     "metadata": {
      "needs_background": "light"
     },
     "output_type": "display_data"
    }
   ],
   "source": [
    "#이제 그래프!\n",
    "plt.bar(cagrMdd.index,cagrMdd['CAGR'], 0.35, color='b', label = 'CAGR')\n",
    "plt.ylabel('CAGR (%)')\n",
    "plt.legend(loc='upper center')\n",
    "plt.twinx()\n",
    "plt.plot(cagrMdd.index, cagrMdd['MDD'], '-or', label='MDD')\n",
    "plt.ylabel('MDD (%)')\n",
    "plt.legend()\n",
    "plt.title(\"test_range별 Cagr과 MDD\")\n",
    "plt.figure(figsize=(14,4))\n",
    "plt.grid(linestyle='-')"
   ]
  },
  {
   "cell_type": "code",
   "execution_count": null,
   "metadata": {},
   "outputs": [],
   "source": [
    "basic_profit = strategy(df, k=0.35)[1]\n",
    "basic_profit = basic_profit.dropna()"
   ]
  },
  {
   "cell_type": "code",
   "execution_count": null,
   "metadata": {},
   "outputs": [],
   "source": [
    "def get_stats(s, n=252):\n",
    "    s = s.dropna()\n",
    "    wins = len(s[s>0])\n",
    "    losses = len(s[s<0])\n",
    "    evens = len(s[s==0])\n",
    "    mean_w = round(s[s>0].mean(), 3)\n",
    "    mean_l = round(s[s<0].mean(), 3)\n",
    "    win_r = round(wins/losses, 3)\n",
    "    mean_trd = round(s.mean(), 3)\n",
    "    sd = round(np.std(s), 3)\n",
    "    max_l = round(s.min(), 3)\n",
    "    max_w = round(s.max(), 3)\n",
    "    sharpe_r = round((s.mean()/np.std(s))*np.sqrt(n), 4)\n",
    "    cnt = len(s)\n",
    "    print('Trades:', cnt,\\\n",
    "          '\\nWins:', wins,\\\n",
    "          '\\nLosses:', losses,\\\n",
    "          '\\nBreakeven:', evens,\\\n",
    "          '\\nWin/Loss Ratio', win_r,\\\n",
    "          '\\nMean Win:', mean_w,\\\n",
    "          '\\nMean Loss:', mean_l,\\\n",
    "          '\\nMean', mean_trd,\\\n",
    "          '\\nStd Dev:', sd,\\\n",
    "          '\\nMax Loss:', max_l,\\\n",
    "          '\\nMax Win:', max_w,\\\n",
    "          '\\nSharpe Ratio:', sharpe_r)"
   ]
  },
  {
   "cell_type": "code",
   "execution_count": null,
   "metadata": {},
   "outputs": [],
   "source": [
    "get_stats(basic_profit)"
   ]
  },
  {
   "cell_type": "markdown",
   "metadata": {},
   "source": [
    "# noise 비율에 따른 테스트"
   ]
  },
  {
   "cell_type": "code",
   "execution_count": null,
   "metadata": {},
   "outputs": [],
   "source": [
    "def strategy_noise(d2, days=3):\n",
    "    d = d2.copy()\n",
    "    d.insert(len(d.columns), 'range', d['high']-d['low'])\n",
    "    \n",
    "    prev_range = d['range'].shift(1)\n",
    "    sell_price = d['open'].shift(-1)\n",
    "    \n",
    "    noise = 1 - abs(d['open']-d['close'])/abs(d['high']-d['low'])\n",
    "    d.insert(len(d.columns), 'noise3', noise.shift(1).rolling(days).mean())\n",
    "    d = d.dropna()    \n",
    "    \n",
    "    buy_price = round((d['open'] + prev_range * d['noise3'])/5.0)*5\n",
    "    buy_price = buy_price.dropna()\n",
    "    bool = d['high'] >= buy_price\n",
    "    bool = bool.astype(int)\n",
    "    daily_profit = bool * ((sell_price - buy_price) / buy_price - 0.15/100)\n",
    "    daily_profit = daily_profit.dropna()\n",
    "   \n",
    "    pf = pd.Series(index=d.index)\n",
    "    pf[0] = 1\n",
    "    for i in range(1,len(pf)-1):\n",
    "        pf[i] = pf[i-1] * (1 + daily_profit[i])\n",
    "    pf = pf.dropna()\n",
    "    resultddf = [pf, daily_profit]\n",
    "    return resultddf"
   ]
  },
  {
   "cell_type": "code",
   "execution_count": null,
   "metadata": {},
   "outputs": [],
   "source": [
    "cagr = []; mdd= []; index=[]\n",
    "\n",
    "for i in range(1,21):\n",
    "    c, m = cm.result(strategy_noise(df, i)[0])\n",
    "    cagr.append(c); mdd.append(m); \n",
    "    index.append(i)\n",
    "    \n",
    "cagr2 = pd.Series(cagr, index=index)\n",
    "mdd2 = pd.Series(mdd, index=index)\n",
    "\n",
    "cagrMdd = pd.DataFrame({'CAGR':cagr2, 'MDD':mdd2})\n",
    "\n",
    "plt.bar(cagrMdd.index,cagrMdd['CAGR'], 0.35, color='b', label = 'CAGR')\n",
    "plt.ylabel('CAGR (%)')\n",
    "plt.legend(loc='upper center')\n",
    "#plt.ylim(50,90)\n",
    "plt.xticks(range(1,21))\n",
    "plt.twinx()\n",
    "plt.plot(cagrMdd.index, cagrMdd['MDD'], '-or', label='MDD')\n",
    "plt.ylabel('MDD (%)')\n",
    "plt.legend(loc='upper left')\n",
    "#plt.ylim(0,40)\n",
    "plt.title(\"Noise 비율에 따른 cage과 MDD\")\n",
    "plt.figure(figsize=(14,4))"
   ]
  },
  {
   "cell_type": "code",
   "execution_count": null,
   "metadata": {},
   "outputs": [],
   "source": [
    "cagrMdd"
   ]
  },
  {
   "cell_type": "code",
   "execution_count": null,
   "metadata": {},
   "outputs": [],
   "source": [
    "noise_profit = strategy_noise(df, 16)[1]"
   ]
  },
  {
   "cell_type": "code",
   "execution_count": null,
   "metadata": {},
   "outputs": [],
   "source": [
    "get_stats(noise_profit)"
   ]
  },
  {
   "cell_type": "code",
   "execution_count": null,
   "metadata": {},
   "outputs": [],
   "source": [
    "noise_profit13 = strategy_noise(df, 13)[1]"
   ]
  },
  {
   "cell_type": "code",
   "execution_count": null,
   "metadata": {},
   "outputs": [],
   "source": [
    "get_stats(noise_profit13)"
   ]
  },
  {
   "cell_type": "code",
   "execution_count": null,
   "metadata": {},
   "outputs": [],
   "source": []
  }
 ],
 "metadata": {
  "kernelspec": {
   "display_name": "Python 3",
   "language": "python",
   "name": "python3"
  },
  "language_info": {
   "codemirror_mode": {
    "name": "ipython",
    "version": 3
   },
   "file_extension": ".py",
   "mimetype": "text/x-python",
   "name": "python",
   "nbconvert_exporter": "python",
   "pygments_lexer": "ipython3",
   "version": "3.7.1"
  }
 },
 "nbformat": 4,
 "nbformat_minor": 2
}
